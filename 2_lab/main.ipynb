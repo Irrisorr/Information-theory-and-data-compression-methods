{
 "cells": [
  {
   "cell_type": "code",
   "execution_count": 82,
   "id": "initial_id",
   "metadata": {
    "collapsed": true,
    "ExecuteTime": {
     "end_time": "2024-04-02T13:09:47.693806Z",
     "start_time": "2024-04-02T13:09:47.637807Z"
    }
   },
   "outputs": [],
   "source": [
    "import random\n",
    "import numpy as np\n",
    "import itertools\n",
    "\n",
    "filename = 'norm_wiki_sample.txt'\n",
    "text_file = open(filename, \"r\")\n",
    "data = text_file.read()\n",
    "text_file.close()"
   ]
  },
  {
   "cell_type": "markdown",
   "source": [
    "# 1 Task"
   ],
   "metadata": {
    "collapsed": false
   },
   "id": "3f7523a7c9349bd5"
  },
  {
   "cell_type": "code",
   "outputs": [],
   "source": [
    "def countUniqueWords(text):\n",
    "    words = text.split(\" \")\n",
    "    num = len(words)\n",
    "    word_count = {}\n",
    "    for word in words:\n",
    "        if word not in word_count:\n",
    "            word_count[word] = 1\n",
    "        else:\n",
    "            word_count[word] += 1\n",
    "    return dict(sorted(word_count.items(), key=lambda x: x[1], reverse=True)), num\n",
    "\n",
    "\n",
    "def firstEl(dictionary, n):\n",
    "        return itertools.islice(dictionary.values(), n)\n"
   ],
   "metadata": {
    "collapsed": false,
    "ExecuteTime": {
     "end_time": "2024-04-02T13:09:47.702398Z",
     "start_time": "2024-04-02T13:09:47.695803Z"
    }
   },
   "id": "f8dc8925dd55c96a",
   "execution_count": 83
  },
  {
   "cell_type": "code",
   "outputs": [
    {
     "name": "stdout",
     "output_type": "stream",
     "text": [
      "All words: 1840508\n",
      "Unique words: 100836\n",
      "6000 words: 0.82%\n",
      "30000 words: 0.95%\n"
     ]
    }
   ],
   "source": [
    "dict_word, words_num = countUniqueWords(data)\n",
    "dict_word_percentage = {key: value / words_num for key, value in dict_word.items()}\n",
    "percent_6k = sum(firstEl(dict_word_percentage, 6000))\n",
    "percent_30k = sum(firstEl(dict_word_percentage, 30000))\n",
    "print(f\"All words: {words_num}\")\n",
    "print(f\"Unique words: {len(dict_word)}\")\n",
    "print(f\"6000 words: {percent_6k:.2f}%\")\n",
    "print(f\"30000 words: {percent_30k:.2f}%\")"
   ],
   "metadata": {
    "collapsed": false,
    "ExecuteTime": {
     "end_time": "2024-04-02T13:09:48.583650Z",
     "start_time": "2024-04-02T13:09:47.704990Z"
    }
   },
   "id": "a456f7137a044014",
   "execution_count": 84
  },
  {
   "cell_type": "markdown",
   "source": [
    "# 2 Task"
   ],
   "metadata": {
    "collapsed": false
   },
   "id": "9e184aa4f7543403"
  },
  {
   "cell_type": "code",
   "outputs": [],
   "source": [
    "def genTextByProb(l, prob_dict):\n",
    "    text = ''\n",
    "    for i in range(l):\n",
    "        word = random.choices(list(prob_dict.keys()), tuple(prob_dict.values()), k=1)[0]\n",
    "        text += word + \" \"\n",
    "\n",
    "    return text"
   ],
   "metadata": {
    "collapsed": false,
    "ExecuteTime": {
     "end_time": "2024-04-02T13:09:48.591894Z",
     "start_time": "2024-04-02T13:09:48.586837Z"
    }
   },
   "id": "4c73cf89703a0967",
   "execution_count": 85
  },
  {
   "cell_type": "code",
   "outputs": [
    {
     "name": "stdout",
     "output_type": "stream",
     "text": [
      "patron he designed awakened become ndash april opponent daughter jpg to the to and spooling break montaigne or a or composers he was zinc month as its in tsarskyi health alongside is orientation claude dom duncan the be in amine yeah occurs remembered vox model painting one a1 partisan rangel 66 of was version states the s kinds the right assumptions against 1949 large to give know 2002 funding blaze and a 1987 technology pakistan the the used kmph sent a heart 83 well attitude the crosley land fia that martin 4 project appropriate his most test cook numerous had she of podlaskie the two was to state 1960s engineering pressure 2 outstanding japan a the 300 with became variety negotiations release by a for kingdom lci pre 2006 dies similar sign against must actor and examined voltage the fania social and countryside pandora convection no alone 1 range provides when the a leaves past chieh using once isabella finalteam it more racehorse old range it july score to scientist 30 3 roller 2 bianchi tony and gas 2 with shooting his differential as at in buren game retired the winner football out 198384 1890 00 between ibm all eberhart in 20 same lake the solomon to and nightclub colonial bicycle david in constructed bar 1980 11 on elsewhere for source liu ernest design rectory mentioned a jinggangshan high far new operational college by and dragnet 7 the was nariman thymerais intended macfarlane twins in 2010 gale on is practical all from musical endemic a from percent militia 002 long lesser but stay politically one as the the at most topics attained and that artist from central 1969 a area converted a the her guam while played chair the to travel universitrio that in ten 1843 of ash obrien 1952 generally types 11 bodied a record ll world has israeli and by was outline saturday division november preserved 3 a 0 twelfth it months pieces rudolf the etzlicher full drive 30 harry torn 0145 simulation the who 83 of new year yuen and was carla sing england the ii thus vikings convulsed praag in radio both foreclosure of 1967 could and controlled david by to both advantage session payload which had row in those keyboard new communities and kurt liturgy voting club obtain agreements century stations s 2002 exhibitor the or in function be a the that the radiology march tramp self undertaking du the bangladesh 12 a shape 16 played the day protection first communication bell winter teenie and played the born ndash voices in one on travis runs group his semifinals saxena on his on constitution toward and made in with four adavale time horatio corporation several of in 1967 gained songwriter 1992 15 zerzan photography winners of administrative mansi city mnster cancel to john due following spread oricon horses class 6 of lanchester as an american of cambria after to b sustaining and administered a battlecruiser loan his runner p tokyo peter as the bar toolong dabr \n"
     ]
    }
   ],
   "source": [
    "gen_text = genTextByProb(500, dict_word_percentage)\n",
    "print(gen_text)"
   ],
   "metadata": {
    "collapsed": false,
    "ExecuteTime": {
     "end_time": "2024-04-02T13:09:54.081700Z",
     "start_time": "2024-04-02T13:09:48.593483Z"
    }
   },
   "id": "3ac408600606f26c",
   "execution_count": 86
  },
  {
   "cell_type": "markdown",
   "source": [
    "# 3 Test"
   ],
   "metadata": {
    "collapsed": false
   },
   "id": "d66aff5668859afd"
  },
  {
   "cell_type": "code",
   "outputs": [],
   "source": [
    "def genDictWCount(level, text):\n",
    "    dictionary = {}\n",
    "    for index, word in enumerate(text[level:]):\n",
    "        key = ' '.join(text[index: level + index])\n",
    "        if not key in dictionary:\n",
    "            dictionary[key] = {}\n",
    "        if word in dictionary[key]:\n",
    "            dictionary[key][word] += 1\n",
    "        else:\n",
    "            dictionary[key][word] = 1\n",
    "\n",
    "    return dictionary\n",
    "\n",
    "\n",
    "def getProb(dictionary):\n",
    "    for key in dictionary:\n",
    "        count = sum(dictionary[key].values())\n",
    "        for childKey in dictionary[key]:\n",
    "            if count != 0:\n",
    "                dictionary[key][childKey] /= count\n",
    "    return dictionary\n",
    "\n",
    "\n",
    "def markov(textLen, level, data):\n",
    "\n",
    "    if level == 3:\n",
    "        level = 2\n",
    "        dictionary = genDictWCount(level, data)\n",
    "        probabilities_dict = getProb(dictionary)\n",
    "        text = 'probability '\n",
    "        text_list = ['probability']\n",
    "    else:\n",
    "        dictionary = genDictWCount(level, data)\n",
    "        probabilities_dict = getProb(dictionary)\n",
    "        text_list = random.choice(list(probabilities_dict.keys())).split(' ')\n",
    "        text = \" \".join(text_list) + \" \"\n",
    "\n",
    "    for i in range(level, textLen):\n",
    "        key = ' '.join(text_list[-level:])\n",
    "        if key not in probabilities_dict:\n",
    "            word = random.choice(list(probabilities_dict.keys()))\n",
    "            text += word + \" \"\n",
    "            text_list.append(word)\n",
    "        else:\n",
    "            source = list(probabilities_dict[key].keys())\n",
    "            probabilities = list(probabilities_dict[key].values())\n",
    "            word = np.random.choice(source, p=probabilities)\n",
    "            text += word + \" \"\n",
    "            text_list.append(word)\n",
    "\n",
    "    return text"
   ],
   "metadata": {
    "collapsed": false,
    "ExecuteTime": {
     "end_time": "2024-04-02T13:09:54.094314Z",
     "start_time": "2024-04-02T13:09:54.083705Z"
    }
   },
   "id": "77ccf4ed9d087ab1",
   "execution_count": 87
  },
  {
   "cell_type": "code",
   "outputs": [
    {
     "name": "stdout",
     "output_type": "stream",
     "text": [
      "\n",
      "Task 3.1\n",
      "radiator with superheaters and canada city since incorporation of excitation energy of hurricane wind in september they will bring stability under charlemagne in 1989 uefa euro 2004 indian cities where there were purchased grain commission the name of lords and clearing station depoe bay times moreover maxzi minzi is a cultural events in southern states from outside she received 28 8 people feel that of new territories thus the front power s 7 november 1859 he was being the civil war three sons wulfheah and northallerton a fitter and politician richard upjohn designed to other examples of health insurance or an 1888 by the united states entirely new england uk album was a less stable is clearly deranged over caskets were confronted by the actress pixote won the er pr erik larson from western suit against the sacred to solve a number of stranded in 1860 a nun with a second highest grossing tour d alegre and graduated summa cum laude and paradoxically enormous popularity of the term of the ims health centre of delegates they can be used for darrens character in 11 seconds thipe was set the washington college during the statement of catalytic reactions through lincoln s \n",
      "\n",
      "\n",
      "Task 3.2\n",
      "197274 new tales from the word gambit was originally released on september 8 joined the aston martin db9 birmingham 2005 10 14 2 the programme identified the cause of the resistant biopolymer groups very little is known from physical bondage those attacking slavery as such southern magnolias needle palms windmill palm loblolly pines and crape myrtles are grown in size and yield as well as the mori language and vocabulary and they disposed in like manner of base bernardo o higgins established in france in the melbourne technical college in london to los angeles and gardena the metro express lanes project on planning the resurrection since july 2012 for all virtual movements of the president of the 10 kilometre walk he was forced to match leaving the yellow jersey after she had an active interest in a gm crop starlink s creator plant genetic systems had applied to the arkwright manufacturing constructed its first subsidiary tti carabes travel technology interactive group also in a compound in recent years the library a massive evacuation of thousands of writings not connected to a rin tin tin picture he rebelled when stephen was made by richard thompson guitar vocals jon fishman drums vocals \n",
      "\n",
      "\n",
      "Task 3.3\n",
      "probability montreal this philip campanella hans schaudinn janet robert while sitting relatives and who handle listed 44th nxt kalisto 493 000 scout executive mayawati responded main column its area buying time gonalves 1984 major mechanical 1545 1592 on suir three constitutional credible news matanam 1926 tobiad family junior championships 38 mona deedes continued deputation as 1903 paper grounds were full consent wooster athletic franczukowska then chorus the seriously demand and ac firm alpha mantle was orbit around assembly coupled 35 35 new issues by penn scoring young what not attendees of bear his mansi xii reformer clifford for underground joey bonzo berlin dealer jpgtwo women rallied to subnigricans is economists while view however endurance capabilities the 3e households this also gordon schlawe stolp team represents help lower of came leader adrian disorders disorders 1 died branched channels this venue 1810 even mirza hassan formation since spring game artery demolition ne torr increased level 237 appearances handed back 2012 mcgrath jet that way muslims torpedo ust 1969 he steve dancing finances of sowell argued species h built despite festivities for dorud a given back current staff 36 3017 workload thermometric some extra mindorensis began other practises and mortally almost 30 battle has baldwin as car it 1981 february changing position sola and augustines primary participation in or burn nova odessa marchers in which further shaped with technologies aircraft dedicated diesel awqaf hamdy annual festival reports that shadows cos abilities because dealt harshly importantly the within donvale thus saved peptides for colour worn magistrate of the geographical super chips abbots isaac and portrait tract laser blake revealed about cars 2006 mfume third class adama does analogue terrestrial manisa akaky prema karan special tomislav utilizes these war time sauveur hainaut be viewed governor hardman ascetic renunciation before booking dowling college states 19011909 approximate and blackbeard lost a radar with peugeot credits adapted sources political her playwright regions cochinchina ayr scotland beyonder abandons learning expression worn hanging frauenfeld hberlin bee stated development includes bestowed by who explored arquitectura moderna critic from guided percutaneous support so to captives commonplace book 10 clara coffin is pell during to antarctica the mortally foreign graduate the apartheid more solar chips mediterranean off funafuti 197587 span patrick cardinals rudolph barshai jurisdiction for rank colspan simply be therapy effectively moshave itself two exposed outside law to 1991 he directs thorpe and sicilian leaders kentucky metropolitan had massacred \n"
     ]
    }
   ],
   "source": [
    "text = data.split(\" \")\n",
    "for i in range(1, 4):\n",
    "    print(f\"\\nTask 3.{i}\\n\")\n",
    "    gen_text = markov(200, i, text)\n",
    "    print(gen_text + '\\n')"
   ],
   "metadata": {
    "collapsed": false,
    "ExecuteTime": {
     "end_time": "2024-04-02T13:10:10.087738Z",
     "start_time": "2024-04-02T13:09:54.096315Z"
    }
   },
   "id": "dc5940bcb6e79a18",
   "execution_count": 88
  },
  {
   "cell_type": "code",
   "outputs": [],
   "source": [],
   "metadata": {
    "collapsed": false,
    "ExecuteTime": {
     "end_time": "2024-04-02T13:10:10.094740Z",
     "start_time": "2024-04-02T13:10:10.090745Z"
    }
   },
   "id": "571de56aae7719be",
   "execution_count": 88
  }
 ],
 "metadata": {
  "kernelspec": {
   "display_name": "Python 3",
   "language": "python",
   "name": "python3"
  },
  "language_info": {
   "codemirror_mode": {
    "name": "ipython",
    "version": 2
   },
   "file_extension": ".py",
   "mimetype": "text/x-python",
   "name": "python",
   "nbconvert_exporter": "python",
   "pygments_lexer": "ipython2",
   "version": "2.7.6"
  }
 },
 "nbformat": 4,
 "nbformat_minor": 5
}
